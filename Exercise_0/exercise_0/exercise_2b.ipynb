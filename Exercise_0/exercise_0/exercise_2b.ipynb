{
 "cells": [
  {
   "cell_type": "markdown",
   "id": "e8fb26e1",
   "metadata": {},
   "source": [
    "# Exercise 2b\n",
    "This is a small example."
   ]
  },
  {
   "cell_type": "markdown",
   "id": "495b2af6",
   "metadata": {},
   "source": [
    "Create a new Markdown cell after this one."
   ]
  },
  {
   "cell_type": "markdown",
   "id": "493a1305",
   "metadata": {},
   "source": [
    "Hello World! FuzzyFoo"
   ]
  },
  {
   "cell_type": "markdown",
   "id": "435b1c85",
   "metadata": {},
   "source": [
    "Execute the code cells."
   ]
  },
  {
   "cell_type": "code",
   "execution_count": 1,
   "id": "84fbcb32",
   "metadata": {},
   "outputs": [],
   "source": [
    "import base64"
   ]
  },
  {
   "cell_type": "code",
   "execution_count": 2,
   "id": "4b2c68d4",
   "metadata": {},
   "outputs": [
    {
     "data": {
      "text/plain": [
       "b'RnV6emluZyBCb29r'"
      ]
     },
     "execution_count": 2,
     "metadata": {},
     "output_type": "execute_result"
    }
   ],
   "source": [
    "base64.b64encode(b'Fuzzing Book')"
   ]
  }
 ],
 "metadata": {
  "kernelspec": {
   "display_name": "Python 3 (ipykernel)",
   "language": "python",
   "name": "python3"
  },
  "language_info": {
   "codemirror_mode": {
    "name": "ipython",
    "version": 3
   },
   "file_extension": ".py",
   "mimetype": "text/x-python",
   "name": "python",
   "nbconvert_exporter": "python",
   "pygments_lexer": "ipython3",
   "version": "3.12.0"
  }
 },
 "nbformat": 4,
 "nbformat_minor": 5
}
